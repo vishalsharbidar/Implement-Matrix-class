{
 "cells": [
  {
   "cell_type": "code",
   "execution_count": 1,
   "metadata": {},
   "outputs": [],
   "source": [
    "# Run this cell but don't modify it.\n",
    "\n",
    "%load_ext autoreload\n",
    "%autoreload 2\n",
    "from matrix import Matrix, zeroes, identity"
   ]
  },
  {
   "cell_type": "code",
   "execution_count": 2,
   "metadata": {},
   "outputs": [
    {
     "name": "stdout",
     "output_type": "stream",
     "text": [
      "m1 is\n",
      "1  2 \n",
      "3  4 \n",
      "\n",
      "m2 is\n",
      "2  5 \n",
      "6  1 \n",
      "\n",
      "we've also provided you with a function called zeros\n",
      "here's what happens when you call zeros(4,2)\n",
      "0.0  0.0 \n",
      "0.0  0.0 \n",
      "0.0  0.0 \n",
      "0.0  0.0 \n",
      "\n",
      "we've also provided you with a function called identity\n",
      "here's identity(3)\n",
      "1.0  0.0  0.0 \n",
      "0.0  1.0  0.0 \n",
      "0.0  0.0  1.0 \n",
      "\n",
      "but not everything works yet!\n",
      "for example, matrix addition...\n",
      "run the cell below to see what happens when we try...\n"
     ]
    }
   ],
   "source": [
    "# some functionality already exists... here's a demo\n",
    "\n",
    "m1 = Matrix([\n",
    "    [1, 2],\n",
    "    [3, 4]\n",
    "])\n",
    "\n",
    "m2 = Matrix([\n",
    "    [2, 5],\n",
    "    [6, 1]\n",
    "])\n",
    "\n",
    "print(\"m1 is\")\n",
    "print(m1)\n",
    "\n",
    "print(\"m2 is\")\n",
    "print(m2)\n",
    "\n",
    "print(\"we've also provided you with a function called zeros\")\n",
    "print(\"here's what happens when you call zeros(4,2)\")\n",
    "print(zeroes(4,2))\n",
    "\n",
    "print(\"we've also provided you with a function called identity\")\n",
    "print(\"here's identity(3)\")\n",
    "print(identity(3))\n",
    "\n",
    "print(\"but not everything works yet!\")\n",
    "print(\"for example, matrix addition...\")\n",
    "print(\"run the cell below to see what happens when we try...\")"
   ]
  },
  {
   "cell_type": "code",
   "execution_count": 8,
   "metadata": {},
   "outputs": [
    {
     "name": "stdout",
     "output_type": "stream",
     "text": [
      "m1 + m2 is\n",
      "[[14], [30]]\n"
     ]
    },
    {
     "ename": "TypeError",
     "evalue": "exceptions must derive from BaseException",
     "output_type": "error",
     "traceback": [
      "\u001b[0;31m---------------------------------------------------------------------------\u001b[0m",
      "\u001b[0;31mTypeError\u001b[0m                                 Traceback (most recent call last)",
      "\u001b[0;32m<ipython-input-8-62dbb61293fd>\u001b[0m in \u001b[0;36m<module>\u001b[0;34m()\u001b[0m\n\u001b[1;32m     13\u001b[0m \u001b[0mprint\u001b[0m\u001b[0;34m(\u001b[0m\u001b[0mm3\u001b[0m\u001b[0;34m)\u001b[0m\u001b[0;34m\u001b[0m\u001b[0m\n\u001b[1;32m     14\u001b[0m \u001b[0mm4\u001b[0m \u001b[0;34m=\u001b[0m \u001b[0;34m-\u001b[0m\u001b[0mm1\u001b[0m\u001b[0;34m\u001b[0m\u001b[0m\n\u001b[0;32m---> 15\u001b[0;31m \u001b[0mprint\u001b[0m\u001b[0;34m(\u001b[0m\u001b[0mm1\u001b[0m  \u001b[0;34m+\u001b[0m \u001b[0mm2\u001b[0m\u001b[0;34m)\u001b[0m\u001b[0;34m\u001b[0m\u001b[0m\n\u001b[0m\u001b[1;32m     16\u001b[0m \u001b[0mprint\u001b[0m\u001b[0;34m(\u001b[0m\u001b[0mm1\u001b[0m\u001b[0;34m)\u001b[0m\u001b[0;34m\u001b[0m\u001b[0m\n",
      "\u001b[0;32m/home/workspace/matrix.py\u001b[0m in \u001b[0;36m__add__\u001b[0;34m(self, other)\u001b[0m\n\u001b[1;32m    155\u001b[0m         \"\"\"\n\u001b[1;32m    156\u001b[0m         \u001b[0;32mif\u001b[0m \u001b[0mself\u001b[0m\u001b[0;34m.\u001b[0m\u001b[0mh\u001b[0m \u001b[0;34m!=\u001b[0m \u001b[0mother\u001b[0m\u001b[0;34m.\u001b[0m\u001b[0mh\u001b[0m \u001b[0;32mor\u001b[0m \u001b[0mself\u001b[0m\u001b[0;34m.\u001b[0m\u001b[0mw\u001b[0m \u001b[0;34m!=\u001b[0m \u001b[0mother\u001b[0m\u001b[0;34m.\u001b[0m\u001b[0mw\u001b[0m\u001b[0;34m:\u001b[0m\u001b[0;34m\u001b[0m\u001b[0m\n\u001b[0;32m--> 157\u001b[0;31m             \u001b[0;32mraise\u001b[0m\u001b[0;34m(\u001b[0m\u001b[0mValueError\u001b[0m\u001b[0;34m,\u001b[0m \u001b[0;34m\"Matrices can only be added if the dimensions are the same\"\u001b[0m\u001b[0;34m)\u001b[0m\u001b[0;34m\u001b[0m\u001b[0m\n\u001b[0m\u001b[1;32m    158\u001b[0m         \u001b[0mmatrixSum\u001b[0m \u001b[0;34m=\u001b[0m \u001b[0;34m[\u001b[0m\u001b[0;34m]\u001b[0m\u001b[0;34m\u001b[0m\u001b[0m\n\u001b[1;32m    159\u001b[0m \u001b[0;34m\u001b[0m\u001b[0m\n",
      "\u001b[0;31mTypeError\u001b[0m: exceptions must derive from BaseException"
     ]
    }
   ],
   "source": [
    "m1 = Matrix([\n",
    "    [1, 2],\n",
    "    [3, 4]\n",
    "])\n",
    "\n",
    "m2 = Matrix([\n",
    "    [2],\n",
    "    [6]\n",
    "])\n",
    "\n",
    "m3 = m1 * m2\n",
    "print(\"m1 + m2 is\")\n",
    "print(m3)\n",
    "m4 = -m1\n",
    "print(m1)\n",
    "print(m1)\n"
   ]
  },
  {
   "cell_type": "code",
   "execution_count": 4,
   "metadata": {},
   "outputs": [
    {
     "name": "stdout",
     "output_type": "stream",
     "text": [
      "Congratulations! All tests pass. Your Matrix class is working as expected.\n"
     ]
    }
   ],
   "source": [
    "# Try running this code. You should get an assertion error. \n",
    "# You will continue to get assertion errors until all the \n",
    "# methods in matrix.py are correctly implemented.\n",
    "\n",
    "# You can open matrix.py by selecting File > Open... \n",
    "# and then selecting matrix.py\n",
    " \n",
    "import test"
   ]
  },
  {
   "cell_type": "code",
   "execution_count": null,
   "metadata": {},
   "outputs": [],
   "source": [
    "# open matrix.py (File > Open...) and start\n",
    "# implementing matrix methods! \n",
    "\n",
    "# when your code passes all the tests you can submit by \n",
    "# pressing the SUBMIT button in the lower right corner \n",
    "# of this page."
   ]
  }
 ],
 "metadata": {
  "kernelspec": {
   "display_name": "Python 3",
   "language": "python",
   "name": "python3"
  },
  "language_info": {
   "codemirror_mode": {
    "name": "ipython",
    "version": 3
   },
   "file_extension": ".py",
   "mimetype": "text/x-python",
   "name": "python",
   "nbconvert_exporter": "python",
   "pygments_lexer": "ipython3",
   "version": "3.6.3"
  }
 },
 "nbformat": 4,
 "nbformat_minor": 2
}
